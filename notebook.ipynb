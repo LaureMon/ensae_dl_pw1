{
 "cells": [
  {
   "cell_type": "markdown",
   "id": "17ec8d6a-4218-49b9-a549-0977cec82967",
   "metadata": {
    "id": "MVpsYfWg3z0B"
   },
   "source": [
    "# PW1 - Handwritten character recognition\n"
   ]
  },
  {
   "cell_type": "code",
   "execution_count": 12,
   "id": "d682452d-e56e-4de8-a420-4418d63790a7",
   "metadata": {},
   "outputs": [],
   "source": [
    "# Write your name here (e.g. \"Edmond Dantès\") so I can grade your work\n",
    "your_name = \"Laure Monfraix\"\n",
    "assert your_name"
   ]
  },
  {
   "cell_type": "code",
   "execution_count": 13,
   "id": "f8538cf7-81e0-481a-8059-be38b611aafb",
   "metadata": {
    "id": "8CcAqNjJ3z0F"
   },
   "outputs": [],
   "source": [
    "%matplotlib inline\n",
    "import math, sys, os, torch, torchvision\n",
    "from torch import nn\n",
    "import numpy as np\n",
    "import matplotlib.pyplot as plt"
   ]
  },
  {
   "cell_type": "code",
   "execution_count": 14,
   "id": "c864b86e-6e6b-4d8a-82c8-6822072a676f",
   "metadata": {
    "id": "3Wxb9pdV3z0F"
   },
   "outputs": [
    {
     "name": "stdout",
     "output_type": "stream",
     "text": [
      "Using gpu: False \n"
     ]
    }
   ],
   "source": [
    "device = torch.device(\"cuda:0\" if torch.cuda.is_available() else \"cpu\")\n",
    "print('Using gpu: %s ' % torch.cuda.is_available())"
   ]
  },
  {
   "cell_type": "markdown",
   "id": "aa038da6-b812-4053-9b72-8ff97ceb3b9b",
   "metadata": {
    "id": "1Sjq8zzf3z0G"
   },
   "source": [
    "We will be training many models. Select a number of epochs to train each model. If you are using a slow machine, or if you want to restart training often and have many development iterations, we suggest `NUM_EPOCH = 2`. If you are using a fast machine, or have a GPU available, of if you are confident that you can write accurate code first try, you will get better accuracies by increasing this constant. You could be able to afford up to `NUM_EPOCH = 10`."
   ]
  },
  {
   "cell_type": "code",
   "execution_count": 15,
   "id": "137adce6-13cc-4ccc-aaf3-42230e322a9b",
   "metadata": {
    "id": "L9CF0H4O3z0G"
   },
   "outputs": [],
   "source": [
    "NUM_EPOCH = 2"
   ]
  },
  {
   "cell_type": "markdown",
   "id": "6ce850e9-ef4e-4323-af2d-be6b94e98994",
   "metadata": {
    "id": "65e20f5e"
   },
   "source": [
    "# Part A - Linear, MLP, and CNN\n"
   ]
  },
  {
   "cell_type": "markdown",
   "id": "05aff4bd-8b1d-4531-89d8-64ce4e2b6357",
   "metadata": {
    "id": "KSAiV2ov3z0H"
   },
   "source": [
    "## Handwritten digit recognition dataset\n",
    "\n",
    "We will use the MNIST database (Modified National Institute of Standards and Technology database). It contains tens of thousands of pictures of handwritten digits. This database was compiled in 1994, as part of the effort in the 1990s to standardize automation of sorting devices with human input, for instance sorting mail with handwritten postal codes at the post office. This is now often considered one of the first real successes of neural networks, and the first easy example on which performance of new such algorithms is tested."
   ]
  },
  {
   "cell_type": "markdown",
   "id": "3429898a-0f57-4cdf-9aa6-7b1121ee4e53",
   "metadata": {},
   "source": [
    "Load the dataset (train and test splits) using `torchvision`"
   ]
  },
  {
   "cell_type": "code",
   "execution_count": 16,
   "id": "59e1c523-4b78-492a-b103-2861af8c3d89",
   "metadata": {
    "id": "Zu3hU4dQ3z0H"
   },
   "outputs": [],
   "source": [
    "root_dir = './data/MNIST/'\n",
    "\n",
    "### YOUR CODE HERE ###\n",
    "from torchvision import datasets, transforms\n",
    "\n",
    "transform = transforms.ToTensor()\n",
    "\n",
    "trainset = datasets.MNIST(root=root_dir, train=True, download=True, transform=transform)\n",
    "\n",
    "testset = datasets.MNIST(root=root_dir, train=False, download=True, transform=transform)\n",
    "\n",
    "train_loader = torch.utils.data.DataLoader(trainset, batch_size=64, shuffle=True)\n",
    "test_loader = torch.utils.data.DataLoader(testset, batch_size=64, shuffle=False)\n"
   ]
  },
  {
   "cell_type": "markdown",
   "id": "d77fbaba-b01f-46d0-a1d7-47c59faaf042",
   "metadata": {},
   "source": [
    "How many examples in each split? \n",
    "\n",
    "Plot the first image and label of the training set using `matplotlib`\n",
    "\n",
    "What is the input dimension?"
   ]
  },
  {
   "cell_type": "code",
   "execution_count": 17,
   "id": "083f07f4-e129-4e9b-b26e-a32fd4bdb99d",
   "metadata": {
    "id": "9fgMls5P3z0I",
    "scrolled": true
   },
   "outputs": [
    {
     "name": "stdout",
     "output_type": "stream",
     "text": [
      "60000 examples in the train set\n",
      "10000 examples in the test set\n",
      "Label: 5\n"
     ]
    },
    {
     "data": {
      "image/png": "[encoded data removed]",
      "text/plain": [
       "<Figure size 640x480 with 1 Axes>"
      ]
     },
     "metadata": {},
     "output_type": "display_data"
    }
   ],
   "source": [
    "### YOUR CODE HERE ###\n",
    "\n",
    "print(f'{len(trainset)} examples in the train set') # 60 000 examples\n",
    "print(f'{len(testset)} examples in the test set') # 10 000 examples\n",
    "\n",
    "# First image and label\n",
    "image, label = trainset[0]\n",
    "\n",
    "plt.imshow(image.squeeze(), cmap = 'gray')\n",
    "print('Label:', label)"
   ]
  },
  {
   "cell_type": "code",
   "execution_count": 18,
   "id": "dc2fbd26-b017-435a-822e-ad382eabd8a4",
   "metadata": {},
   "outputs": [
    {
     "name": "stdout",
     "output_type": "stream",
     "text": [
      "Input dimension: torch.Size([1, 28, 28]), Label: 5\n"
     ]
    }
   ],
   "source": [
    "### YOUR CODE HERE ###\n",
    "\n",
    "# Input dimension\n",
    "\n",
    "image, label = trainset[0]\n",
    "print(f'Input dimension: {image.shape}, Label: {label}')"
   ]
  },
  {
   "cell_type": "markdown",
   "id": "f6380c03-1427-4dea-974e-5a38621ea6c1",
   "metadata": {
    "id": "Guv5_hY63z0L"
   },
   "source": [
    "# A.1 - Linear features\n",
    "\n",
    "We start with a very simple model, linear with respect to pixel values.\n",
    "Use a `preprocess` function to downsample the image to 7x7 pixels, then flatten it and use a `torch.nn.Linear` model.\n",
    "\n",
    "The torch average-pooling function is `torch.nn.functional.avg_pool2d`, check the documentation to set the arguments properly.\n",
    "DO NOT use your implementation of average-pooling, it would take prohibitively long to train and you would not finish the practical.\n",
    "If the training takes too long, go back to the first section and lower the `NUM_EPOCH` constant."
   ]
  },
  {
   "cell_type": "code",
   "execution_count": 19,
   "id": "2f37373a",
   "metadata": {},
   "outputs": [],
   "source": [
    "import torch.nn.functional as F\n",
    "\n",
    "def preprocess(image):\n",
    "    # Downsample the image to 7x7 using average pooling\n",
    "    downsampled = F.avg_pool2d(image.unsqueeze(0), kernel_size=4).squeeze(0)\n",
    "    flattened = downsampled.view(-1)\n",
    "    return flattened"
   ]
  },
  {
   "cell_type": "markdown",
   "id": "f2bb8e5d-7d84-4a59-aa5d-e942ffa22aa8",
   "metadata": {},
   "source": [
    "Again, use matplotlib to visualize an example of downsampling"
   ]
  },
  {
   "cell_type": "code",
   "execution_count": 20,
   "id": "ac111d5c-dfa2-44e2-9a57-f2f4c2caff2d",
   "metadata": {},
   "outputs": [
    {
     "data": {
      "image/png": "[encoded data removed]",
      "text/plain": [
       "<Figure size 640x480 with 1 Axes>"
      ]
     },
     "metadata": {},
     "output_type": "display_data"
    }
   ],
   "source": [
    "### YOUR CODE HERE ###\n",
    "# Downsample the image \n",
    "downsampled_image = preprocess(image)\n",
    "\n",
    "# Reshape the downsampled image to 7x7\n",
    "downsampled_image_reshaped = downsampled_image.view(7, 7)\n",
    "\n",
    "# Plot the downsampled image\n",
    "plt.imshow(downsampled_image_reshaped, cmap='gray')\n",
    "plt.title(\"Downsampled Image (7x7)\")\n",
    "plt.show()"
   ]
  },
  {
   "cell_type": "code",
   "execution_count": 21,
   "id": "6aa4adcb-be17-4f0d-ba9f-4da062227230",
   "metadata": {
    "id": "2v3GqEPU3z0L"
   },
   "outputs": [],
   "source": [
    "### YOUR ( MODEL / PREPROCESSING ) CODE HERE ###\n",
    "class LinearModel(nn.Module):\n",
    "    def __init__(self, input_dim, output_dim):\n",
    "        super(LinearModel, self).__init__()\n",
    "        self.fc = nn.Linear(input_dim, output_dim)\n",
    "\n",
    "    def forward(self, x):\n",
    "        x = self.fc(x)\n",
    "        return x\n",
    "    "
   ]
  },
  {
   "cell_type": "markdown",
   "id": "e5becae4-e27f-43ed-a1c5-ced8c16f4cac",
   "metadata": {
    "id": "qeWZ7DeNMG20"
   },
   "source": [
    "## A.2 - Loss and optimizer\n",
    "Create a cross entropy loss."
   ]
  },
  {
   "cell_type": "code",
   "execution_count": 22,
   "id": "a85b789e",
   "metadata": {
    "id": "a85b789e"
   },
   "outputs": [],
   "source": [
    "### YOUR CODE HERE ###\n",
    "criterion = nn.CrossEntropyLoss()"
   ]
  },
  {
   "cell_type": "markdown",
   "id": "43aec31b-3d2b-4b29-ad85-e88a6e25660a",
   "metadata": {
    "id": "ZCnlsh9iMhx_"
   },
   "source": [
    "## A.3 - Training and testing loops\n",
    "Finally, create the functions `train(model, epoch, preprocess, optimizer)` and `test(model)` to train (one epoch with SGD and a learning rate of $10^{-3}$) and test your model."
   ]
  },
  {
   "cell_type": "code",
   "execution_count": 23,
   "id": "438743f9",
   "metadata": {},
   "outputs": [],
   "source": [
    "def train(model, epoch, preprocess, optimizer):\n",
    "    model.train()\n",
    "    correct = 0\n",
    "    total = 0\n",
    "    for batch_idx, (data, target) in enumerate(train_loader):\n",
    "        data, target = data.to(device), target.to(device)\n",
    "        optimizer.zero_grad()\n",
    "        # Preprocess the data\n",
    "        data = torch.stack([preprocess(img) for img in data])\n",
    "        # Forward pass\n",
    "        output = model(data)\n",
    "        # Compute loss\n",
    "        loss = criterion(output, target)\n",
    "        # Backward pass and optimization\n",
    "        loss.backward()\n",
    "        optimizer.step()\n",
    "        # Compute accuracy\n",
    "        pred = output.argmax(dim=1, keepdim=True)\n",
    "        correct += pred.eq(target.view_as(pred)).sum().item()\n",
    "        total += target.size(0)\n",
    "    accuracy = 100. * correct / total\n",
    "    print(f\"Train Epoch: {epoch + 1} Accuracy: {accuracy:.2f}%\")\n",
    "    return optimizer, accuracy\n",
    "\n",
    "def test(model, preprocess):\n",
    "    model.eval()\n",
    "    correct = 0\n",
    "    total = 0\n",
    "    with torch.no_grad():\n",
    "        for data, target in test_loader:\n",
    "            data, target = data.to(device), target.to(device)\n",
    "            # Preprocess the data\n",
    "            data = torch.stack([preprocess(img) for img in data])\n",
    "            # Forward pass\n",
    "            output = model(data)\n",
    "            # Compute accuracy\n",
    "            pred = output.argmax(dim=1, keepdim=True)\n",
    "            correct += pred.eq(target.view_as(pred)).sum().item()\n",
    "            total += target.size(0)\n",
    "    accuracy = 100. * correct / total\n",
    "    print(f\"Test Accuracy: {accuracy:.2f}%\")\n",
    "    return accuracy"
   ]
  },
  {
   "cell_type": "markdown",
   "id": "aa359382-2580-44ae-bcdb-3f18cf1f4c61",
   "metadata": {
    "id": "_t4SiXk33z0L"
   },
   "source": [
    "You should get at least 85\\% test accuracy even with only 2 epochs. We will be aiming for around 95\\% test accuracy and above."
   ]
  },
  {
   "cell_type": "code",
   "execution_count": 24,
   "id": "6f12bf85-45c6-41d9-87f3-0601bc4b6339",
   "metadata": {
    "id": "nBmfvtl6UbUe",
    "scrolled": true
   },
   "outputs": [
    {
     "name": "stdout",
     "output_type": "stream",
     "text": [
      "Train Epoch: 1 Accuracy: 82.26%\n",
      "Test Accuracy: 87.02%\n",
      "Epoch 1/2, Train Accuracy: 82.26%, Test Accuracy: 87.02%\n",
      "Train Epoch: 2 Accuracy: 86.26%\n",
      "Test Accuracy: 87.59%\n",
      "Epoch 2/2, Train Accuracy: 86.26%, Test Accuracy: 87.59%\n"
     ]
    }
   ],
   "source": [
    "### YOUR CODE HERE ###\n",
    "# Model\n",
    "input_dim = 7 * 7  # Flattened 7x7 image\n",
    "output_dim = 10    # Number of classes\n",
    "\n",
    "model = LinearModel(input_dim, output_dim).to(device)\n",
    "\n",
    "# Optimizer\n",
    "optimizer = torch.optim.SGD(model.parameters(), lr=0.1, momentum=0.9)\n",
    "\n",
    "# Training\n",
    "for epoch in range(NUM_EPOCH):\n",
    "    optimizer, train_accuracy = train(model, epoch, preprocess, optimizer)\n",
    "    test_accuracy = test(model, preprocess)\n",
    "    print(f\"Epoch {epoch + 1}/{NUM_EPOCH}, Train Accuracy: {train_accuracy:.2f}%, Test Accuracy: {test_accuracy:.2f}%\")\n"
   ]
  },
  {
   "cell_type": "markdown",
   "id": "bf28bb4e-7178-4340-9247-f69591e86dcf",
   "metadata": {
    "id": "RrwYAMMBEUPN"
   },
   "source": [
    "## A.4 - Multi-layer perceptron (MLP)\n",
    "\n",
    "Create a class MLP that creates an MLP of given width and depth, and use it to create a 3-layer MLP of width $100$. We will assume that `width > 0` and `depth > 0`."
   ]
  },
  {
   "cell_type": "code",
   "execution_count": 46,
   "id": "79cb6479-d475-4f0e-b0f7-fdd107d9e835",
   "metadata": {
    "colab": {
     "base_uri": "https://localhost:8080/"
    },
    "id": "e8353cd9",
    "outputId": "c7f5eeaf-0638-45c3-842e-4372d21ff712"
   },
   "outputs": [],
   "source": [
    "### YOUR CODE HERE ###\n",
    "class MLP(nn.Module):\n",
    "    def __init__(self, input_dim, output_dim, width, depth):\n",
    "        super(MLP, self).__init__()\n",
    "        layers = []\n",
    "        layers.append(nn.Linear(input_dim, width))\n",
    "        layers.append(nn.ReLU())\n",
    "        for _ in range(depth - 1):\n",
    "            layers.append(nn.Linear(width, width))\n",
    "            layers.append(nn.ReLU())\n",
    "        layers.append(nn.Linear(width, output_dim))\n",
    "        self.model = nn.Sequential(*layers)\n",
    "\n",
    "    def forward(self, x):\n",
    "        return self.model(x)\n",
    "\n",
    "# Create a 3-layer MLP with width 100\n",
    "width = 100\n",
    "depth = 3\n",
    "mlp_model = MLP(input_dim, output_dim, width, depth).to(device)\n"
   ]
  },
  {
   "cell_type": "code",
   "execution_count": 53,
   "id": "9a267a39",
   "metadata": {},
   "outputs": [
    {
     "name": "stdout",
     "output_type": "stream",
     "text": [
      "Train Epoch: 1 Accuracy: 82.94%\n",
      "Test Accuracy: 91.91%\n",
      "Epoch 1/5, Train Accuracy: 82.94%, Test Accuracy: 91.91%\n",
      "Train Epoch: 2 Accuracy: 92.65%\n",
      "Test Accuracy: 92.89%\n",
      "Epoch 2/5, Train Accuracy: 92.65%, Test Accuracy: 92.89%\n",
      "Train Epoch: 3 Accuracy: 94.00%\n",
      "Test Accuracy: 94.79%\n",
      "Epoch 3/5, Train Accuracy: 94.00%, Test Accuracy: 94.79%\n",
      "Train Epoch: 4 Accuracy: 94.55%\n",
      "Test Accuracy: 94.94%\n",
      "Epoch 4/5, Train Accuracy: 94.55%, Test Accuracy: 94.94%\n",
      "Train Epoch: 5 Accuracy: 95.06%\n",
      "Test Accuracy: 94.83%\n",
      "Epoch 5/5, Train Accuracy: 95.06%, Test Accuracy: 94.83%\n"
     ]
    }
   ],
   "source": [
    "NUM_EPOCH = 5\n",
    "\n",
    "optimizer = torch.optim.SGD(mlp_model.parameters(), lr=0.1, momentum=0.9)\n",
    "\n",
    "# Training the MLP model\n",
    "for epoch in range(NUM_EPOCH):\n",
    "    optimizer, train_accuracy = train(mlp_model, epoch, preprocess, optimizer) \n",
    "    test_accuracy = test(mlp_model, preprocess)  \n",
    "    print(f\"Epoch {epoch + 1}/{NUM_EPOCH}, Train Accuracy: {train_accuracy:.2f}%, Test Accuracy: {test_accuracy:.2f}%\")"
   ]
  },
  {
   "cell_type": "markdown",
   "id": "42119bc1",
   "metadata": {},
   "source": [
    "### Add Dropout"
   ]
  },
  {
   "cell_type": "markdown",
   "id": "26b2c451",
   "metadata": {},
   "source": [
    "We test the addition of dropout layers after each hidden MLP layer to limit overlearning. The aim is to improve the generalization capacity of the model and increase its accuracy on the test set."
   ]
  },
  {
   "cell_type": "code",
   "execution_count": null,
   "id": "a050271f",
   "metadata": {},
   "outputs": [],
   "source": [
    "# Define the MLP model with dropout\n",
    "class MLP2(nn.Module):\n",
    "    def __init__(self, input_dim, output_dim, width, depth, dropout_p=0.5):\n",
    "        super(MLP2, self).__init__()\n",
    "        layers = []\n",
    "        layers.append(nn.Linear(input_dim, width))\n",
    "        layers.append(nn.ReLU())\n",
    "        layers.append(nn.Dropout(dropout_p))  # dropout after first layer\n",
    "\n",
    "        for _ in range(depth - 1):\n",
    "            layers.append(nn.Linear(width, width))\n",
    "            layers.append(nn.ReLU())\n",
    "            layers.append(nn.Dropout(dropout_p))  # dropout after each hiddden layer\n",
    "\n",
    "        layers.append(nn.Linear(width, output_dim)) \n",
    "        self.model = nn.Sequential(*layers)\n",
    "\n",
    "    def forward(self, x):\n",
    "        return self.model(x)\n",
    "    \n",
    "width = 100\n",
    "depth = 3\n",
    "dropout_p = 0.5\n",
    "\n",
    "mlp_model_dropout = MLP2(input_dim, output_dim, width, depth, dropout_p=dropout_p).to(device)\n"
   ]
  },
  {
   "cell_type": "code",
   "execution_count": 26,
   "id": "9f9abdc8",
   "metadata": {},
   "outputs": [
    {
     "name": "stdout",
     "output_type": "stream",
     "text": [
      "Train Epoch: 1 Accuracy: 64.56%\n",
      "Test Accuracy: 85.60%\n",
      "Epoch 1/5, Train Accuracy: 64.56%, Test Accuracy: 85.60%\n",
      "Train Epoch: 2 Accuracy: 77.58%\n",
      "Test Accuracy: 87.69%\n",
      "Epoch 2/5, Train Accuracy: 77.58%, Test Accuracy: 87.69%\n",
      "Train Epoch: 3 Accuracy: 78.33%\n",
      "Test Accuracy: 89.84%\n",
      "Epoch 3/5, Train Accuracy: 78.33%, Test Accuracy: 89.84%\n",
      "Train Epoch: 4 Accuracy: 79.75%\n",
      "Test Accuracy: 89.30%\n",
      "Epoch 4/5, Train Accuracy: 79.75%, Test Accuracy: 89.30%\n",
      "Train Epoch: 5 Accuracy: 80.11%\n",
      "Test Accuracy: 89.90%\n",
      "Epoch 5/5, Train Accuracy: 80.11%, Test Accuracy: 89.90%\n"
     ]
    }
   ],
   "source": [
    "NUM_EPOCH = 5\n",
    "\n",
    "optimizer = torch.optim.SGD(mlp_model_dropout.parameters(), lr=0.1, momentum=0.9)\n",
    "\n",
    "# Training the MLP model\n",
    "for epoch in range(NUM_EPOCH):\n",
    "    optimizer, train_accuracy = train(mlp_model_dropout, epoch, preprocess, optimizer) \n",
    "    test_accuracy = test(mlp_model_dropout, preprocess)  \n",
    "    print(f\"Epoch {epoch + 1}/{NUM_EPOCH}, Train Accuracy: {train_accuracy:.2f}%, Test Accuracy: {test_accuracy:.2f}%\")"
   ]
  },
  {
   "cell_type": "markdown",
   "id": "ba2c2002",
   "metadata": {},
   "source": [
    "The addition of the Dropout results in a test accuracy of 89.9%, slightly lower than that obtained with the classic MLP, which may be explained by sub-optimization of the model parameters (for example, a dropout rate that is too high or an insufficient number of epochs to compensate for the additional regularization)."
   ]
  },
  {
   "cell_type": "code",
   "execution_count": null,
   "metadata": {},
   "outputs": [
    {
     "name": "stdout",
     "output_type": "stream",
     "text": [
      "\n",
      "Testing lr=0.1, dropout_p=0.3\n",
      "Train Epoch: 1 Accuracy: 75.61%\n",
      "Train Epoch: 2 Accuracy: 87.36%\n",
      "Train Epoch: 3 Accuracy: 88.82%\n",
      "Train Epoch: 4 Accuracy: 89.47%\n",
      "Train Epoch: 5 Accuracy: 90.04%\n",
      "Test Accuracy: 92.94%\n",
      "Test Accuracy: 92.94%\n",
      "\n",
      "Testing lr=0.1, dropout_p=0.5\n",
      "Train Epoch: 1 Accuracy: 64.58%\n",
      "Train Epoch: 2 Accuracy: 77.25%\n",
      "Train Epoch: 3 Accuracy: 79.31%\n",
      "Train Epoch: 4 Accuracy: 79.94%\n",
      "Train Epoch: 5 Accuracy: 80.55%\n",
      "Test Accuracy: 90.22%\n",
      "Test Accuracy: 90.22%\n",
      "\n",
      "Testing lr=0.1, dropout_p=0.7\n",
      "Train Epoch: 1 Accuracy: 29.59%\n",
      "Train Epoch: 2 Accuracy: 24.13%\n",
      "Train Epoch: 3 Accuracy: 18.82%\n",
      "Train Epoch: 4 Accuracy: 16.13%\n",
      "Train Epoch: 5 Accuracy: 17.38%\n",
      "Test Accuracy: 24.57%\n",
      "Test Accuracy: 24.57%\n",
      "\n",
      "Testing lr=0.01, dropout_p=0.3\n",
      "Train Epoch: 1 Accuracy: 46.58%\n",
      "Train Epoch: 2 Accuracy: 81.00%\n",
      "Train Epoch: 3 Accuracy: 86.62%\n",
      "Train Epoch: 4 Accuracy: 88.59%\n",
      "Train Epoch: 5 Accuracy: 89.82%\n",
      "Test Accuracy: 93.36%\n",
      "Test Accuracy: 93.36%\n",
      "\n",
      "Testing lr=0.01, dropout_p=0.5\n",
      "Train Epoch: 1 Accuracy: 38.23%\n",
      "Train Epoch: 2 Accuracy: 73.61%\n",
      "Train Epoch: 3 Accuracy: 81.14%\n",
      "Train Epoch: 4 Accuracy: 83.71%\n",
      "Train Epoch: 5 Accuracy: 85.15%\n",
      "Test Accuracy: 91.76%\n",
      "Test Accuracy: 91.76%\n",
      "\n",
      "Testing lr=0.01, dropout_p=0.7\n",
      "Train Epoch: 1 Accuracy: 21.62%\n",
      "Train Epoch: 2 Accuracy: 53.11%\n",
      "Train Epoch: 3 Accuracy: 66.95%\n",
      "Train Epoch: 4 Accuracy: 72.23%\n",
      "Train Epoch: 5 Accuracy: 74.94%\n",
      "Test Accuracy: 88.85%\n",
      "Test Accuracy: 88.85%\n",
      "\n",
      "Testing lr=0.001, dropout_p=0.3\n",
      "Train Epoch: 1 Accuracy: 15.92%\n",
      "Train Epoch: 2 Accuracy: 24.77%\n",
      "Train Epoch: 3 Accuracy: 29.69%\n",
      "Train Epoch: 4 Accuracy: 41.83%\n",
      "Train Epoch: 5 Accuracy: 53.31%\n",
      "Test Accuracy: 67.22%\n",
      "Test Accuracy: 67.22%\n",
      "\n",
      "Testing lr=0.001, dropout_p=0.5\n",
      "Train Epoch: 1 Accuracy: 11.87%\n",
      "Train Epoch: 2 Accuracy: 17.75%\n",
      "Train Epoch: 3 Accuracy: 25.31%\n",
      "Train Epoch: 4 Accuracy: 33.69%\n",
      "Train Epoch: 5 Accuracy: 41.01%\n",
      "Test Accuracy: 56.25%\n",
      "Test Accuracy: 56.25%\n",
      "\n",
      "Testing lr=0.001, dropout_p=0.7\n",
      "Train Epoch: 1 Accuracy: 10.86%\n",
      "Train Epoch: 2 Accuracy: 13.36%\n",
      "Train Epoch: 3 Accuracy: 15.61%\n",
      "Train Epoch: 4 Accuracy: 18.25%\n",
      "Train Epoch: 5 Accuracy: 22.71%\n",
      "Test Accuracy: 32.35%\n",
      "Test Accuracy: 32.35%\n",
      "\n",
      "Best Hyperparameters found:\n",
      "{'learning_rate': 0.01, 'dropout_p': 0.3}\n",
      "Best Test Accuracy: 93.36%\n"
     ]
    }
   ],
   "source": [
    "import torch.optim as optim\n",
    "\n",
    "class MLP_opti(nn.Module):\n",
    "    def __init__(self, input_dim, output_dim, width, depth, dropout_p):\n",
    "        super(MLP_opti, self).__init__()\n",
    "        layers = []\n",
    "        layers.append(nn.Linear(input_dim, width))\n",
    "        layers.append(nn.ReLU())\n",
    "        layers.append(nn.Dropout(dropout_p))\n",
    "        for _ in range(depth - 1):\n",
    "            layers.append(nn.Linear(width, width))\n",
    "            layers.append(nn.ReLU())\n",
    "            layers.append(nn.Dropout(dropout_p))\n",
    "        layers.append(nn.Linear(width, output_dim))\n",
    "        self.model = nn.Sequential(*layers)\n",
    "\n",
    "    def forward(self, x):\n",
    "        return self.model(x)\n",
    "\n",
    "# Hyperparameters to test\n",
    "learning_rates = [0.1, 0.01, 0.001]\n",
    "dropout_rates = [0.3, 0.5, 0.7]\n",
    "\n",
    "best_accuracy = 0\n",
    "best_params = {}\n",
    "\n",
    "# Loop through hyperparameters\n",
    "for lr in learning_rates:\n",
    "    for dropout_p in dropout_rates:\n",
    "        print(f\"\\nTesting lr={lr}, dropout_p={dropout_p}\")\n",
    "        \n",
    "        model = MLP_opti(input_dim, output_dim, width=100, depth=3, dropout_p=dropout_p).to(device)\n",
    "        \n",
    "        optimizer = optim.SGD(model.parameters(), lr=lr, momentum=0.9)\n",
    "        \n",
    "        # Training\n",
    "        for epoch in range(5):  \n",
    "            optimizer, train_accuracy = train(model, epoch, preprocess, optimizer)\n",
    "        \n",
    "        # Evaluation\n",
    "        test_accuracy = test(model, preprocess)\n",
    "        \n",
    "        print(f\"Test Accuracy: {test_accuracy:.2f}%\")\n",
    "        \n",
    "        # Save the best parameters based on test accuracy\n",
    "        if test_accuracy > best_accuracy:\n",
    "            best_accuracy = test_accuracy\n",
    "            best_params = {'learning_rate': lr, 'dropout_p': dropout_p}\n",
    "\n",
    "print(\"\\nBest Hyperparameters found:\")\n",
    "print(best_params)\n",
    "print(f\"Best Test Accuracy: {best_accuracy:.2f}%\")\n"
   ]
  },
  {
   "cell_type": "markdown",
   "id": "9dd9d168",
   "metadata": {},
   "source": [
    "Despite the optimization of hyperparameters, the addition of Dropout does not bring any significant gain in performance over the MLP without Dropout. This suggests that the base MLP was not strongly prone to overfitting on this dataset, probably due to the size of the dataset or the nature of the task."
   ]
  },
  {
   "cell_type": "markdown",
   "id": "76ca5a11-93e4-47ab-81f1-e4ee3cae45c9",
   "metadata": {
    "id": "v1czyC9R3z0R"
   },
   "source": [
    "# A.5 - Deep convolutional model\n",
    "\n",
    "Write a convolutional model, with learned features.\n",
    "Use two layers, one convolutional with 8 filters of size 3x3, then take a relu and max-pool with kernel size 2, and finally flatten and add a Linear layer. You can use the identity as pre-processing function."
   ]
  },
  {
   "cell_type": "markdown",
   "id": "4933e318-5521-4bf8-b011-bdb95ed0d8b0",
   "metadata": {},
   "source": [
    "\n",
    "Here is a little animation to remind you of the sliding window principle of convolutions.\n",
    "\n",
    "![conv](https://github.com//vdumoulin/conv_arithmetic/raw/master/gif/no_padding_no_strides.gif)"
   ]
  },
  {
   "cell_type": "code",
   "execution_count": null,
   "id": "44c87b30-36d7-4567-b009-a41413afac5b",
   "metadata": {
    "id": "l4QOi_oe3z0R"
   },
   "outputs": [],
   "source": [
    "class ConvModel(torch.nn.Module):\n",
    "    def __init__(self):\n",
    "        super(ConvModel, self).__init__()\n",
    "        self.conv1 = nn.Conv2d(in_channels=1, out_channels=8, kernel_size=3)  \n",
    "        self.relu = nn.ReLU() \n",
    "        self.maxpool = nn.MaxPool2d(kernel_size=2) \n",
    "        self.flatten = nn.Flatten()  \n",
    "        self.fc = nn.Linear(8 * 13 * 13, 10) \n",
    "\n",
    "    def forward(self, x):\n",
    "        x = self.conv1(x)\n",
    "        x = self.relu(x)\n",
    "        x = self.maxpool(x)\n",
    "        x = self.flatten(x)\n",
    "        x = self.fc(x)\n",
    "        return x\n",
    "\n",
    "# Model\n",
    "conv_model = ConvModel().to(device)\n"
   ]
  },
  {
   "cell_type": "markdown",
   "id": "a0313eed-03ad-461d-9ddb-bb690c631149",
   "metadata": {
    "id": "pbQ1LUqf3z0R"
   },
   "source": [
    "You should be able to get around 97\\% to 98\\% accuracy with this model. Try increasing the NUM_EPOCH constant and watch what happens to test accuracy and train accuracy as training progresses further.\n",
    "\n",
    "Write a deeper convolutional model, with one convolutional layer as previously, but three linear layers with relu activations after that.\n",
    "Use `h = 100` hidden neurons. How does the test accuracy compare with the previous two-layer network ?"
   ]
  },
  {
   "cell_type": "code",
   "execution_count": null,
   "id": "75f081fd",
   "metadata": {},
   "outputs": [
    {
     "name": "stdout",
     "output_type": "stream",
     "text": [
      "Train Epoch: 1 Accuracy: 94.37%\n",
      "Test Accuracy: 97.39%\n",
      "Epoch 1/5, Train Accuracy: 94.37%, Test Accuracy: 97.39%\n",
      "Train Epoch: 2 Accuracy: 97.34%\n",
      "Test Accuracy: 97.70%\n",
      "Epoch 2/5, Train Accuracy: 97.34%, Test Accuracy: 97.70%\n",
      "Train Epoch: 3 Accuracy: 97.88%\n",
      "Test Accuracy: 97.64%\n",
      "Epoch 3/5, Train Accuracy: 97.88%, Test Accuracy: 97.64%\n",
      "Train Epoch: 4 Accuracy: 98.05%\n",
      "Test Accuracy: 97.73%\n",
      "Epoch 4/5, Train Accuracy: 98.05%, Test Accuracy: 97.73%\n",
      "Train Epoch: 5 Accuracy: 98.29%\n",
      "Test Accuracy: 97.72%\n",
      "Epoch 5/5, Train Accuracy: 98.29%, Test Accuracy: 97.72%\n"
     ]
    }
   ],
   "source": [
    "# Conv model with 2 layers\n",
    "NUM_EPOCH = 5 \n",
    "\n",
    "optimizer = torch.optim.SGD(conv_model.parameters(), lr=0.1, momentum=0.9)\n",
    "\n",
    "# Training \n",
    "for epoch in range(NUM_EPOCH):\n",
    "    optimizer, train_accuracy = train(conv_model, epoch, lambda x: x, optimizer)\n",
    "    test_accuracy = test(conv_model, lambda x: x)\n",
    "    print(f\"Epoch {epoch + 1}/{NUM_EPOCH}, Train Accuracy: {train_accuracy:.2f}%, Test Accuracy: {test_accuracy:.2f}%\")"
   ]
  },
  {
   "cell_type": "code",
   "execution_count": null,
   "id": "792791e1-0514-4749-a3fb-d27eb10a1bd2",
   "metadata": {
    "id": "YM-OhC123z0R"
   },
   "outputs": [
    {
     "name": "stdout",
     "output_type": "stream",
     "text": [
      "Train Epoch: 1 Accuracy: 91.89%\n",
      "Test Accuracy: 96.57%\n",
      "Epoch 1/5, Train Accuracy: 91.89%, Test Accuracy: 96.57%\n",
      "Train Epoch: 2 Accuracy: 97.65%\n",
      "Test Accuracy: 97.11%\n",
      "Epoch 2/5, Train Accuracy: 97.65%, Test Accuracy: 97.11%\n",
      "Train Epoch: 3 Accuracy: 98.18%\n",
      "Test Accuracy: 97.74%\n",
      "Epoch 3/5, Train Accuracy: 98.18%, Test Accuracy: 97.74%\n",
      "Train Epoch: 4 Accuracy: 98.60%\n",
      "Test Accuracy: 97.98%\n",
      "Epoch 4/5, Train Accuracy: 98.60%, Test Accuracy: 97.98%\n",
      "Train Epoch: 5 Accuracy: 98.83%\n",
      "Test Accuracy: 98.09%\n",
      "Epoch 5/5, Train Accuracy: 98.83%, Test Accuracy: 98.09%\n"
     ]
    }
   ],
   "source": [
    "# Conv model with 3 layers\n",
    "class ConvDeepModel(torch.nn.Module):\n",
    "    def __init__(self, h=100):\n",
    "        super(ConvDeepModel, self).__init__()\n",
    "        self.conv1 = nn.Conv2d(in_channels=1, out_channels=8, kernel_size=3)  \n",
    "        self.relu = nn.ReLU()  # ReLU activation\n",
    "        self.maxpool = nn.MaxPool2d(kernel_size=2)  \n",
    "        self.flatten = nn.Flatten() \n",
    "        self.fc1 = nn.Linear(8 * 13 * 13, h) \n",
    "        self.fc2 = nn.Linear(h, h)  \n",
    "        self.fc3 = nn.Linear(h, 10) \n",
    "\n",
    "    def forward(self, x):\n",
    "        x = self.conv1(x)\n",
    "        x = self.relu(x)\n",
    "        x = self.maxpool(x)\n",
    "        x = self.flatten(x)\n",
    "        x = self.fc1(x)\n",
    "        x = self.relu(x)\n",
    "        x = self.fc2(x)\n",
    "        x = self.relu(x)\n",
    "        x = self.fc3(x)\n",
    "        return x\n",
    "\n",
    "# Model\n",
    "h = 100  # Hidden neurons\n",
    "conv_deep_model = ConvDeepModel(h=h).to(device)\n",
    "\n",
    "optimizer = torch.optim.SGD(conv_deep_model.parameters(), lr=0.1, momentum=0.9)\n",
    "\n",
    "# Training \n",
    "for epoch in range(NUM_EPOCH):\n",
    "    optimizer, train_accuracy = train(conv_deep_model, epoch, lambda x: x, optimizer)\n",
    "    test_accuracy = test(conv_deep_model, lambda x: x)\n",
    "    print(f\"Epoch {epoch + 1}/{NUM_EPOCH}, Train Accuracy: {train_accuracy:.2f}%, Test Accuracy: {test_accuracy:.2f}%\")"
   ]
  },
  {
   "cell_type": "markdown",
   "id": "7dadc31b",
   "metadata": {},
   "source": [
    "Logically, with 3 layers, test accuracy increases."
   ]
  },
  {
   "cell_type": "markdown",
   "id": "46fd763b-b36a-461c-ad34-f472e62ce46d",
   "metadata": {},
   "source": [
    "## A.6 Visualisations of convolutions\n",
    "\n",
    "After training your model, let's see what features it has learned!\n",
    "\n",
    "Plot an image from the test set then plot all 8 feature maps extracted by the convolutional layer"
   ]
  },
  {
   "cell_type": "code",
   "execution_count": 55,
   "id": "0e5284c2-4210-4ccc-bf05-5e722bdabf63",
   "metadata": {},
   "outputs": [
    {
     "data": {
      "image/png": "[encoded data removed]",
      "text/plain": [
       "<Figure size 1000x1000 with 9 Axes>"
      ]
     },
     "metadata": {},
     "output_type": "display_data"
    }
   ],
   "source": [
    "### YOUR CODE HERE ###\n",
    "image, label = testset[0]\n",
    "image = image.unsqueeze(0).to(device)\n",
    "\n",
    "output = conv_model.conv1(image)\n",
    "\n",
    "plt.figure(figsize=(10, 10))\n",
    "plt.subplot(3, 3, 1)\n",
    "plt.imshow(image.cpu().squeeze(), cmap='gray')\n",
    "plt.title(f\"Label: {label}\")\n",
    "plt.axis('off')\n",
    "\n",
    "for i in range(8):\n",
    "    plt.subplot(3, 3, i + 2)\n",
    "    plt.imshow(output[0, i].cpu().detach(), cmap='viridis')\n",
    "    plt.title(f\"Map {i + 1}\")\n",
    "    plt.axis('off')\n",
    "\n",
    "plt.tight_layout()\n",
    "plt.show()\n"
   ]
  },
  {
   "cell_type": "markdown",
   "id": "dc457ad1-3240-4ffb-a8f3-98c6554dfce5",
   "metadata": {
    "id": "riu_K1at3z0R"
   },
   "source": [
    "# Part B - Residual models\n",
    "\n",
    "## B.1 - Residual blocks\n",
    "\n",
    "Write a residual block with two linear layers to learn a function $\\mathbb{R}^d \\to \\mathbb{R}^d$ with $h < d$ hidden neurons.\n",
    "Write a convolutional residual block with the same idea. What hyperparameter acts as the number of hidden neurons in convolutional blocks ?"
   ]
  },
  {
   "cell_type": "code",
   "execution_count": null,
   "id": "aec298d4-4372-4a1f-be53-a278d051c0f6",
   "metadata": {
    "id": "gkCILVwd3z0R"
   },
   "outputs": [],
   "source": [
    "class ResidualBlock(torch.nn.Module):\n",
    "    def __init__(self, d, h):\n",
    "        super(ResidualBlock, self).__init__()\n",
    "        self.fc1 = nn.Linear(d, h)\n",
    "        self.relu = nn.ReLU()\n",
    "        self.fc2 = nn.Linear(h, d)\n",
    "\n",
    "    def forward(self, x):\n",
    "        residual = x  # input for the residual connection\n",
    "        out = self.fc1(x)  \n",
    "        out = self.relu(out)  \n",
    "        out = self.fc2(out)  \n",
    "        out += residual  # residual connection\n",
    "        return out"
   ]
  },
  {
   "cell_type": "code",
   "execution_count": 58,
   "id": "3890dedd",
   "metadata": {},
   "outputs": [],
   "source": [
    "class ConvResidualBlock(nn.Module):\n",
    "    def __init__(self, in_channels, out_channels, kernel_size=3, stride=1, padding=1):\n",
    "        super(ConvResidualBlock, self).__init__()\n",
    "        self.conv1 = nn.Conv2d(in_channels, out_channels, kernel_size, stride, padding)\n",
    "        self.relu = nn.ReLU()\n",
    "        self.conv2 = nn.Conv2d(out_channels, out_channels, kernel_size, stride, padding)\n",
    "        self.shortcut = nn.Conv2d(in_channels, out_channels, kernel_size=1, stride=1) if in_channels != out_channels else nn.Identity()\n",
    "\n",
    "    def forward(self, x):\n",
    "        residual = self.shortcut(x)\n",
    "        out = self.conv1(x)\n",
    "        out = self.relu(out)\n",
    "        out = self.conv2(out)\n",
    "        out += residual\n",
    "        return self.relu(out)"
   ]
  },
  {
   "cell_type": "markdown",
   "id": "7bf0d79c",
   "metadata": {},
   "source": [
    "In a convolutional block, the out_channels parameter determines the number of filters learned, playing a role equivalent to the number of neurons in a hidden layer of an MLP. The higher out_channels is, the more varied and complex patterns the model can detect."
   ]
  },
  {
   "cell_type": "markdown",
   "id": "8cc0097d-269c-40f4-b182-bdc79bd5c512",
   "metadata": {
    "id": "huKWOvVc3z0S"
   },
   "source": [
    "## B.2 - Stacking residual blocks\n",
    "\n",
    "Use a single convolution layer, followed by a relu and max-pool, then an arbitrary number of residual blocks as defined above, and finish with a linear layer. Can you match the accuracy of the two-layer network ? Can you exceed it ? What happens when you increase the number of layers ? Look at the details of the ResNet architecture on the lecture's slides to get an idea of how to increase the number of hidden neurons and the number of layers. One of the strengths of ResNets was there relatively low number of parameters compared\n",
    "to a multi-layer architecture like that of the previous section, does this show in your experiments ?"
   ]
  },
  {
   "cell_type": "code",
   "execution_count": null,
   "id": "33da5a2d",
   "metadata": {},
   "outputs": [
    {
     "name": "stdout",
     "output_type": "stream",
     "text": [
      "Train Epoch: 1 Accuracy: 94.38%\n",
      "Test Accuracy: 96.93%\n",
      "Epoch 1/5, Train Accuracy: 94.38%, Test Accuracy: 96.93%\n",
      "Train Epoch: 2 Accuracy: 97.02%\n",
      "Test Accuracy: 97.33%\n",
      "Epoch 2/5, Train Accuracy: 97.02%, Test Accuracy: 97.33%\n",
      "Train Epoch: 3 Accuracy: 97.39%\n",
      "Test Accuracy: 97.80%\n",
      "Epoch 3/5, Train Accuracy: 97.39%, Test Accuracy: 97.80%\n",
      "Train Epoch: 4 Accuracy: 97.81%\n",
      "Test Accuracy: 97.81%\n",
      "Epoch 4/5, Train Accuracy: 97.81%, Test Accuracy: 97.81%\n",
      "Train Epoch: 5 Accuracy: 97.79%\n",
      "Test Accuracy: 97.85%\n",
      "Epoch 5/5, Train Accuracy: 97.79%, Test Accuracy: 97.85%\n"
     ]
    }
   ],
   "source": [
    "class ResidualConvNet(nn.Module):\n",
    "    def __init__(self, num_residual_blocks, in_channels=1, out_channels=8, kernel_size=3, hidden_dim=100, num_classes=10):\n",
    "        super(ResidualConvNet, self).__init__()\n",
    "        self.conv1 = nn.Conv2d(in_channels, out_channels, kernel_size=kernel_size, padding=1)\n",
    "        self.relu = nn.ReLU()\n",
    "        self.maxpool = nn.MaxPool2d(kernel_size=2)\n",
    "        self.residual_blocks = nn.Sequential(\n",
    "            *[ConvResidualBlock(out_channels, out_channels) for _ in range(num_residual_blocks)]\n",
    "        )\n",
    "        self.flatten = nn.Flatten()\n",
    "        self.fc = nn.Linear(out_channels * 14 * 14, num_classes)\n",
    "\n",
    "    def forward(self, x):\n",
    "        x = self.conv1(x)\n",
    "        x = self.relu(x)\n",
    "        x = self.maxpool(x)\n",
    "        x = self.residual_blocks(x)\n",
    "        x = self.flatten(x)\n",
    "        x = self.fc(x)\n",
    "        return x\n",
    "\n",
    "# Model\n",
    "num_residual_blocks = 3  \n",
    "residual_conv_net = ResidualConvNet(num_residual_blocks=num_residual_blocks).to(device)\n",
    "\n",
    "# Optimizer\n",
    "optimizer = torch.optim.SGD(residual_conv_net.parameters(), lr=0.1, momentum=0.9)\n",
    "\n",
    "# Training\n",
    "for epoch in range(NUM_EPOCH):\n",
    "    optimizer, train_accuracy = train(residual_conv_net, epoch, lambda x: x, optimizer)\n",
    "    test_accuracy = test(residual_conv_net, lambda x: x)\n",
    "    print(f\"Epoch {epoch + 1}/{NUM_EPOCH}, Train Accuracy: {train_accuracy:.2f}%, Test Accuracy: {test_accuracy:.2f}%\")"
   ]
  },
  {
   "cell_type": "markdown",
   "id": "f571dd6a",
   "metadata": {},
   "source": [
    "Yes, the accuracy of the two-layer model can be matched or exceeded by adding layers, especially with residual blocks. Without them, depth often leads to a drop in performance due to the vanishing gradient, which blocks learning. Residual blocks overcome this problem by facilitating gradient propagation."
   ]
  },
  {
   "cell_type": "markdown",
   "id": "bf0d4de4-11e8-490c-8262-064b3e841fa5",
   "metadata": {
    "id": "U4gg9uWg3z0S"
   },
   "source": [
    "Yes, this is borne out in experiments: despite similar performance (test accuracy ≈ 94-95%), an MLP with 3 hidden layers of width 100 uses far more parameters than a lighter ResNet. Indeed, with only 2 convolutional layers and residual blocks, similar test accuracy results are achieved, while model complexity is reduced."
   ]
  },
  {
   "cell_type": "code",
   "execution_count": 62,
   "id": "77b2a317",
   "metadata": {},
   "outputs": [
    {
     "name": "stdout",
     "output_type": "stream",
     "text": [
      "Total trainable parameters for ResNet: 19,274\n",
      "Total trainable parameters for MLP: 26,210\n"
     ]
    }
   ],
   "source": [
    "from torchinfo import summary\n",
    "\n",
    "info = summary(residual_conv_net, input_size=(1, 1, 28, 28), depth=3)\n",
    "print(f\"Total trainable parameters for ResNet: {info.total_params:,}\")\n",
    "\n",
    "info2 = summary(mlp_model, input_size=(1, 49))\n",
    "print(f\"Total trainable parameters for MLP: {info2.total_params:,}\")\n"
   ]
  },
  {
   "cell_type": "markdown",
   "id": "b788ae81",
   "metadata": {},
   "source": [
    "Both models achieve similar performance, but the ResNet uses only 19,274 parameters, compared with 26,210 for the MLP."
   ]
  },
  {
   "cell_type": "markdown",
   "id": "df418703-b1e1-4276-8ba7-dd5622c7b7cd",
   "metadata": {
    "id": "2nes_ZtBoBu0"
   },
   "source": [
    "# Part C - Reimplementing loss functions\n",
    "\n",
    "## C.0 - Combining losses\n",
    "First, we recall that, for a batch of score vectors $s\\in\\mathbb{R}^{n\\times C}$ and true labels $y\\in[1,C]^n$, **cross entropy** is defined as\n",
    "$$CE(s, y) = -\\frac{1}{n}\\sum_{i=1}^n \\log\\left( \\mbox{softmax}(s_i)_{y_i} \\right)$$\n",
    "\n",
    "where $\\mbox{softmax}(x)_i = \\frac{e^{x_i}}{\\sum_{j=1}^n e^{x_j}}$ is the probability associated to class $i\\in[1,C]$ for a score vector $x\\in\\mathbb{R}^C$.\n",
    "\n",
    "Let's try to compute cross-entropy in three different ways (see the [documentation](https://pytorch.org/docs/stable/generated/torch.nn.CrossEntropyLoss.html)):\n",
    "1. Using `nn.CrossEntropyLoss()`.\n",
    "2. Using `nn.NLLLoss()` and `nn.LogSoftmax()`.\n",
    "3. Using `nn.NLLLoss()` and `nn.Softmax()`.\n",
    "\n",
    "Check that the output is the same for all three methods on Gaussian random scores `torch.randn(n_batch, n_classes)` and random labels `torch.randint(0, n_classes, [n_batch])`, where `n_batch=4` and `n_classes=10`. Note that the scores are real valued vectors while the labels are integers corresponding to the true class."
   ]
  },
  {
   "cell_type": "code",
   "execution_count": null,
   "id": "e1b6c172",
   "metadata": {
    "id": "e1b6c172"
   },
   "outputs": [
    {
     "name": "stdout",
     "output_type": "stream",
     "text": [
      "Loss using nn.CrossEntropyLoss(): 3.082906723022461\n",
      "Loss using nn.NLLLoss() and nn.LogSoftmax(): 3.082906723022461\n",
      "Loss using nn.NLLLoss() and nn.Softmax(): 3.0829062461853027\n"
     ]
    }
   ],
   "source": [
    "### YOUR CODE HERE ###\n",
    "# Initialization\n",
    "n_batch = 4\n",
    "n_classes = 10\n",
    "\n",
    "# Random scores and labels\n",
    "scores = torch.randn(n_batch, n_classes)\n",
    "labels = torch.randint(0, n_classes, (n_batch,))\n",
    "\n",
    "# nn.CrossEntropyLoss()\n",
    "criterion_ce = nn.CrossEntropyLoss()\n",
    "loss_ce = criterion_ce(scores, labels)\n",
    "\n",
    "# nn.NLLLoss() and nn.LogSoftmax()\n",
    "log_softmax = nn.LogSoftmax(dim=1)\n",
    "nll_loss = nn.NLLLoss()\n",
    "loss_nll_logsoftmax = nll_loss(log_softmax(scores), labels)\n",
    "\n",
    "# nn.NLLLoss() and nn.Softmax()\n",
    "softmax = nn.Softmax(dim=1)\n",
    "loss_nll_softmax = nll_loss(torch.log(softmax(scores)), labels)\n",
    "\n",
    "\n",
    "print(f\"Loss using nn.CrossEntropyLoss(): {loss_ce.item()}\")\n",
    "print(f\"Loss using nn.NLLLoss() and nn.LogSoftmax(): {loss_nll_logsoftmax.item()}\")\n",
    "print(f\"Loss using nn.NLLLoss() and nn.Softmax(): {loss_nll_softmax.item()}\")\n",
    "\n",
    "# Outputs are the same"
   ]
  },
  {
   "cell_type": "markdown",
   "id": "bba900c6-f7b2-4179-a2f1-f1eede4b6697",
   "metadata": {
    "id": "TWKaTBVd5ftN"
   },
   "source": [
    "## C.1 - Re-implementation\n",
    "Now re-implement cross-entropy using base functions (`torch.log`, `torch.exp`, `torch.sum`, etc...). Verify that your function returns the same value as Pytorch's implementation."
   ]
  },
  {
   "cell_type": "code",
   "execution_count": null,
   "id": "EfA-3-E7qwgF",
   "metadata": {
    "id": "EfA-3-E7qwgF"
   },
   "outputs": [
    {
     "name": "stdout",
     "output_type": "stream",
     "text": [
      "Loss using custom implementation: 3.082906484603882\n",
      "Loss using nn.CrossEntropyLoss(): 3.082906723022461\n"
     ]
    }
   ],
   "source": [
    "def ce(logits, targets):\n",
    "    ### YOUR CODE HERE ###\n",
    "    exp_logits = torch.exp(logits)\n",
    "    softmax_probs = exp_logits / torch.sum(exp_logits, dim=1, keepdim=True)\n",
    "    \n",
    "    # True class\n",
    "    true_class_probs = softmax_probs[range(len(targets)), targets]\n",
    "    \n",
    "    # Compute loss\n",
    "    loss = -torch.mean(torch.log(true_class_probs))\n",
    "    return loss\n",
    "\n",
    "# Check the results\n",
    "loss_custom = ce(scores, labels)\n",
    "print(f\"Loss using custom implementation: {loss_custom.item()}\")\n",
    "print(f\"Loss using nn.CrossEntropyLoss(): {loss_ce.item()}\")"
   ]
  },
  {
   "cell_type": "markdown",
   "id": "011ec13a-330a-4073-99b9-2eb9dd42d1f8",
   "metadata": {
    "id": "OFG0QfKN7WtO"
   },
   "source": [
    "## C.2 - Stability analysis\n",
    "Softmax probabilities can be relatively unstable due to their use of exponentials. Pytorch implementations thus usually use log probas or logits to avoid overflows or floating point errors. Test all methods (including your own) on Gaussian random scores of standard deviation equal to $100$. Which methods are stable? Why? Is it an issue in practice?"
   ]
  },
  {
   "cell_type": "code",
   "execution_count": 72,
   "id": "741771f5-864d-446a-b654-3b4f5a2598ca",
   "metadata": {},
   "outputs": [
    {
     "name": "stdout",
     "output_type": "stream",
     "text": [
      "Loss using nn.CrossEntropyLoss(): 100.24188232421875\n",
      "Loss using nn.NLLLoss() and nn.LogSoftmax(): 100.24188232421875\n",
      "Loss using nn.NLLLoss() and nn.Softmax(): inf\n",
      "Loss using custom implementation: nan\n"
     ]
    }
   ],
   "source": [
    "### YOUR CODE HERE ###\n",
    "\n",
    "scores_high_std = torch.randn(n_batch, n_classes) * 100\n",
    "labels_high_std = torch.randint(0, n_classes, (n_batch,))\n",
    "\n",
    "# nn.CrossEntropyLoss()\n",
    "loss_ce_high_std = criterion_ce(scores_high_std, labels_high_std)\n",
    "print(f\"Loss using nn.CrossEntropyLoss(): {loss_ce_high_std.item()}\")\n",
    "\n",
    "\n",
    "# nn.NLLLoss() and nn.LogSoftmax()\n",
    "loss_nll_logsoftmax_high_std = nll_loss(log_softmax(scores_high_std), labels_high_std)\n",
    "print(f\"Loss using nn.NLLLoss() and nn.LogSoftmax(): {loss_nll_logsoftmax_high_std.item()}\")\n",
    "\n",
    "# nn.NLLLoss() and nn.Softmax()\n",
    "\n",
    "loss_nll_softmax_high_std = nll_loss(torch.log(softmax(scores_high_std)), labels_high_std)\n",
    "print(f\"Loss using nn.NLLLoss() and nn.Softmax(): {loss_nll_softmax_high_std.item()}\")\n",
    "\n",
    "# Custom implementation\n",
    "loss_custom_high_std = ce(scores_high_std, labels_high_std)\n",
    "print(f\"Loss using custom implementation: {loss_custom_high_std.item()}\")\n"
   ]
  },
  {
   "cell_type": "markdown",
   "id": "0d18062e",
   "metadata": {},
   "source": [
    "When applying different cross-entropy calculation methods to very high Gaussian scores (standard deviation 100), only some remain stable. Methods using nn.CrossEntropyLoss() directly or nn.NLLLoss() combined with nn.LogSoftmax() give identical and stable results, as they incorporate the log-sum-exp trick, which prevents overflows when calculating exponentials. On the other hand, methods based on Softmax followed by log, or a naive implementation using torch.exp() like the one initially proposed, return inf or nan, as exponentials of very large values exceed the capacity of floats."
   ]
  },
  {
   "cell_type": "markdown",
   "id": "5ecaaf7c-b21f-4e18-ac53-1a77adbc60bf",
   "metadata": {
    "id": "Y3y4BfwbBIGy"
   },
   "source": [
    "Re-implement a stable version of cross-entropy."
   ]
  },
  {
   "cell_type": "code",
   "execution_count": null,
   "id": "83d00dab-a37e-48da-880f-81f10efdc133",
   "metadata": {},
   "outputs": [
    {
     "name": "stdout",
     "output_type": "stream",
     "text": [
      "Loss using stable implementation: 106.2891\n",
      "Loss using nn.CrossEntropyLoss(): 100.2419\n"
     ]
    }
   ],
   "source": [
    "def stable_ce(logits, targets):\n",
    "    ### YOUR CODE HERE ###\n",
    "    \n",
    "    # Apply the log-sum-exp trick for stability\n",
    "    max_logits = torch.max(logits, dim=1, keepdim=True).values\n",
    "    logits_exp = logits - max_logits \n",
    "    log_probs = logits_exp - torch.log(torch.sum(torch.exp(logits_exp), dim=1, keepdim=True))\n",
    "    \n",
    "    # True classes\n",
    "    true_class_log_probs = log_probs[range(len(targets)), targets]\n",
    "    \n",
    "    # Compute the loss\n",
    "    loss = -torch.mean(true_class_log_probs)\n",
    "    return loss\n",
    "\n",
    "\n",
    "# Check the results\n",
    "\n",
    "# classical CrossEntropyLoss \n",
    "criterion_ce = torch.nn.CrossEntropyLoss()\n",
    "loss_ce = criterion_ce(scores_high_std, labels_high_std)\n",
    "\n",
    "# random data \n",
    "scores_high_std = torch.randn(n_batch, n_classes) * 100\n",
    "labels_high_std = torch.randint(0, n_classes, (n_batch,))\n",
    "\n",
    "# custom CrossEntropyLoss \n",
    "\n",
    "loss_stable = stable_ce(scores_high_std, labels_high_std)\n",
    "print(f\"Loss using stable implementation: {loss_stable.item():.4f}\")\n",
    "print(f\"Loss using nn.CrossEntropyLoss(): {loss_ce.item():.4f}\")"
   ]
  }
 ],
 "metadata": {
  "kernelspec": {
   "display_name": "dl",
   "language": "python",
   "name": "python3"
  },
  "language_info": {
   "codemirror_mode": {
    "name": "ipython",
    "version": 3
   },
   "file_extension": ".py",
   "mimetype": "text/x-python",
   "name": "python",
   "nbconvert_exporter": "python",
   "pygments_lexer": "ipython3",
   "version": "3.12.4"
  }
 },
 "nbformat": 4,
 "nbformat_minor": 5
}
